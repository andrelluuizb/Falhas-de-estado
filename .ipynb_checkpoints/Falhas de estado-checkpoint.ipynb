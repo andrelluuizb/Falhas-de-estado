{
 "cells": [
  {
   "cell_type": "markdown",
   "metadata": {},
   "source": [
    "<h1>Falhas de estado"
   ]
  },
  {
   "cell_type": "markdown",
   "metadata": {},
   "source": [
    "<h1>Brasil</h1>"
   ]
  },
  {
   "cell_type": "markdown",
   "metadata": {},
   "source": [
    "<h2>Saúde</h2>"
   ]
  },
  {
   "cell_type": "markdown",
   "metadata": {},
   "source": [
    "[2019 - Golpe no SUS: Operação da PF mira fraude de verbas destinadas a próteses cardíacas](https://ndmais.com.br/noticias/golpe-no-sus-operacao-da-pf-mira-fraude-de-verbas-destinadas-a-proteses-cardiacas/)"
   ]
  },
  {
   "cell_type": "markdown",
   "metadata": {},
   "source": [
    "[2019 - Conversas gravadas pelo MP-PR mostram como funcionava esquema de fraude à fila do SUS](https://g1.globo.com/pr/parana/noticia/2019/01/30/conversas-gravadas-pelo-mp-pr-mostram-como-funcionava-esquema-de-fraude-a-fila-do-sus.ghtml)"
   ]
  },
  {
   "cell_type": "markdown",
   "metadata": {},
   "source": [
    "<h2>Educação</h2>"
   ]
  },
  {
   "cell_type": "markdown",
   "metadata": {},
   "source": [
    "<h2>Segurança</h2>"
   ]
  },
  {
   "cell_type": "markdown",
   "metadata": {},
   "source": [
    "<h2>Justiça</h2>"
   ]
  },
  {
   "cell_type": "markdown",
   "metadata": {},
   "source": [
    "<h2>Regulação</h2>"
   ]
  },
  {
   "cell_type": "markdown",
   "metadata": {},
   "source": [
    "<h2>Gastos públicos</h2>"
   ]
  },
  {
   "cell_type": "markdown",
   "metadata": {},
   "source": [
    "<h2>Tributação</h2>"
   ]
  },
  {
   "cell_type": "markdown",
   "metadata": {},
   "source": [
    "<h1>Internacional</h1>"
   ]
  },
  {
   "cell_type": "markdown",
   "metadata": {},
   "source": [
    "<h2>Saúde</h2>"
   ]
  },
  {
   "cell_type": "markdown",
   "metadata": {},
   "source": [
    "[2017 - The Many Failures Of Britain’s National Health Service – Analysis](https://www.eurasiareview.com/21072017-the-many-failures-of-britains-national-health-service-analysis/)"
   ]
  },
  {
   "cell_type": "markdown",
   "metadata": {},
   "source": [
    "[2017 - Does Britain Have the World’s Best Health System?](https://www.intellectualtakeout.org/article/does-britain-have-worlds-best-health-system)"
   ]
  },
  {
   "cell_type": "markdown",
   "metadata": {},
   "source": [
    "[2018 - Patients Are 'Dying in Corridors' of Britain’s Single-Payer Health System](https://www.intellectualtakeout.org/article/patients-are-dying-corridors-britains-single-payer-health-system)"
   ]
  },
  {
   "cell_type": "markdown",
   "metadata": {},
   "source": [
    "[2018 - Patients 'dying in hospital corridors'](https://www.bbc.com/news/health-42572116)"
   ]
  },
  {
   "cell_type": "markdown",
   "metadata": {},
   "source": [
    "[2018 - Britain's single-payer health care crisis: NHS cancels 50,000 surgeries amid hospital chaos](https://www.theblaze.com/news/2018/01/05/britains-single-payer-health-care-crisis-nhs-cancels-50000-surgeries-amid-hospital-chaos)"
   ]
  },
  {
   "cell_type": "markdown",
   "metadata": {},
   "source": [
    "[2018 - NHS hospitals ordered to cancel all routine operations in January as flu spike and bed shortages lead to A&E crisis](https://www.telegraph.co.uk/news/2018/01/02/nhs-hospitals-ordered-cancel-routine-operations-january/)"
   ]
  }
 ],
 "metadata": {
  "kernelspec": {
   "display_name": "Python 3",
   "language": "python",
   "name": "python3"
  },
  "language_info": {
   "codemirror_mode": {
    "name": "ipython",
    "version": 3
   },
   "file_extension": ".py",
   "mimetype": "text/x-python",
   "name": "python",
   "nbconvert_exporter": "python",
   "pygments_lexer": "ipython3",
   "version": "3.7.1"
  }
 },
 "nbformat": 4,
 "nbformat_minor": 2
}
