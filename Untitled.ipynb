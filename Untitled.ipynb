{
 "cells": [
  {
   "cell_type": "markdown",
   "metadata": {},
   "source": [
    "<h1>Falhas de mercado"
   ]
  },
  {
   "cell_type": "markdown",
   "metadata": {},
   "source": [
    "SUS"
   ]
  },
  {
   "cell_type": "markdown",
   "metadata": {},
   "source": [
    "https://recordtv.r7.com/balanco-geral-manha/videos/enfermeira-denuncia-a-reutilizacao-de-seringas-em-upa-de-taboao-da-serra-sp-20102018"
   ]
  },
  {
   "cell_type": "markdown",
   "metadata": {},
   "source": [
    "Polícia"
   ]
  },
  {
   "cell_type": "markdown",
   "metadata": {},
   "source": [
    "Agencias reguladoras"
   ]
  }
 ],
 "metadata": {
  "kernelspec": {
   "display_name": "Python 3",
   "language": "python",
   "name": "python3"
  },
  "language_info": {
   "codemirror_mode": {
    "name": "ipython",
    "version": 3
   },
   "file_extension": ".py",
   "mimetype": "text/x-python",
   "name": "python",
   "nbconvert_exporter": "python",
   "pygments_lexer": "ipython3",
   "version": "3.7.1"
  }
 },
 "nbformat": 4,
 "nbformat_minor": 2
}
