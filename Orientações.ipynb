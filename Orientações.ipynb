{
 "cells": [
  {
   "cell_type": "markdown",
   "metadata": {},
   "source": [
    "<h2>Objetivo do repositório.</h2>"
   ]
  },
  {
   "cell_type": "markdown",
   "metadata": {},
   "source": [
    "Concentrar em um único local o máximo de noticias sobre as falhas alocacionais e distorções economicas e sociais causadas pelo estado, para que sirvam como fonte para artigos, documentários, pesquisas e etc."
   ]
  },
  {
   "cell_type": "markdown",
   "metadata": {},
   "source": [
    "<h2>Como contribuir:</h2>"
   ]
  },
  {
   "cell_type": "markdown",
   "metadata": {},
   "source": [
    "Edite o arquivo \"Falhas de estado.ipynb\" seguindo sempre o seguinte padrão:"
   ]
  },
  {
   "cell_type": "raw",
   "metadata": {},
   "source": [
    "[ano - titulo original da noticia](link_da_noticia)"
   ]
  }
 ],
 "metadata": {
  "kernelspec": {
   "display_name": "Python 3",
   "language": "python",
   "name": "python3"
  },
  "language_info": {
   "codemirror_mode": {
    "name": "ipython",
    "version": 3
   },
   "file_extension": ".py",
   "mimetype": "text/x-python",
   "name": "python",
   "nbconvert_exporter": "python",
   "pygments_lexer": "ipython3",
   "version": "3.7.1"
  }
 },
 "nbformat": 4,
 "nbformat_minor": 2
}
